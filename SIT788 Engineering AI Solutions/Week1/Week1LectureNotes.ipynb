{
 "cells": [
  {
   "cell_type": "code",
   "execution_count": null,
   "metadata": {},
   "outputs": [],
   "source": []
  },
  {
   "attachments": {},
   "cell_type": "markdown",
   "metadata": {},
   "source": [
    "## AI In Healthcare\n",
    "\n",
    "AI can work as an assistant  \n",
    "Can detect things that humans might miss.  \n",
    "Australian AI startup - Horizon AI. diagnosis of diseases.  \n",
    "\n",
    "Models on the cloud are great because then it necomes centralised, many people can use it from various locations (maybe with a licence, necesarrily open)\n",
    "\n",
    "\n"
   ]
  }
 ],
 "metadata": {
  "language_info": {
   "name": "python"
  },
  "orig_nbformat": 4
 },
 "nbformat": 4,
 "nbformat_minor": 2
}
