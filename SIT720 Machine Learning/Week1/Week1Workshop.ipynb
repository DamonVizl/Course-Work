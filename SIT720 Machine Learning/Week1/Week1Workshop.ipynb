{
 "cells": [
  {
   "attachments": {},
   "cell_type": "markdown",
   "metadata": {},
   "source": [
    "Minkowski distance is the generalised formula for distance, encomposses 1-norm (manhattan) and 2-norm (euclidean)\n",
    "\n",
    "gunna try code it below"
   ]
  },
  {
   "cell_type": "code",
   "execution_count": 1,
   "metadata": {},
   "outputs": [
    {
     "name": "stdout",
     "output_type": "stream",
     "text": [
      "is this thing on\n"
     ]
    }
   ],
   "source": [
    "print(\"is this thing on\")"
   ]
  },
  {
   "cell_type": "code",
   "execution_count": 17,
   "metadata": {},
   "outputs": [
    {
     "name": "stdout",
     "output_type": "stream",
     "text": [
      "order must be 1 or 2\n"
     ]
    }
   ],
   "source": [
    "\n",
    "\n",
    "def MinkowskiDistance(vect1, vect2, order):\n",
    "    if len(vect1)!= len(vect2): return \"vectors must be of the same size\"\n",
    "    if not (order == 1 or order == 2): return \"exponent must be equal to 1 or 2\" \n",
    "    distance = 0\n",
    "    for i in range(len(vect1)):\n",
    "        distance += abs(vect1[i]-vect2[i])**order\n",
    "    distance = distance**(1/order)\n",
    "    return distance\n",
    "\n",
    "vector1 = [1,2,3]  \n",
    "vector2 = [2,4,5]\n",
    "pFactor = 1 # can be 1 or 2, this is hte exponent factor\n",
    "\n",
    "print(MinkowskiDistance(vector1,vector2, pFactor))\n"
   ]
  }
 ],
 "metadata": {
  "kernelspec": {
   "display_name": "Python 3",
   "language": "python",
   "name": "python3"
  },
  "language_info": {
   "codemirror_mode": {
    "name": "ipython",
    "version": 3
   },
   "file_extension": ".py",
   "mimetype": "text/x-python",
   "name": "python",
   "nbconvert_exporter": "python",
   "pygments_lexer": "ipython3",
   "version": "3.11.2"
  },
  "orig_nbformat": 4
 },
 "nbformat": 4,
 "nbformat_minor": 2
}
