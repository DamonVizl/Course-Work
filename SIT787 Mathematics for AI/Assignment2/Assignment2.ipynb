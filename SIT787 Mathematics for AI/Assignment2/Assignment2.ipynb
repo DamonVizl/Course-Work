{
 "cells": [
  {
   "attachments": {},
   "cell_type": "markdown",
   "metadata": {},
   "source": [
    "# Assignment 2 - SIT787 - Damon Vizl - s223545885\n",
    "## Question 1\n",
    "\n",
    "1. Consider these vectors\n",
    "\n",
    "$$\\mathbf{u} = 5\\vec u+7\\hat y$$\n",
    "\n",
    "$$ \\mathbf{u} =\\begin{bmatrix}1 \\\\\n",
    "2 \\\\\n",
    "0 \\\\\n",
    "1\n",
    "\\end{bmatrix}$$\n",
    "\n",
    "$$ \\mathbf{v} =\\begin{bmatrix}2 \\\\\n",
    "2 \\\\\n",
    "-2 \\\\\n",
    "4\n",
    "\\end{bmatrix}$$\n",
    "$$ \\mathbf{w} =\\begin{bmatrix}1 \\\\\n",
    "2 \\\\\n",
    "0 \\\\\n",
    "-2\n",
    "\\end{bmatrix}$$\n",
    "\n",
    "\n"
   ]
  },
  {
   "cell_type": "code",
   "execution_count": null,
   "metadata": {},
   "outputs": [],
   "source": []
  }
 ],
 "metadata": {
  "language_info": {
   "name": "python"
  },
  "orig_nbformat": 4
 },
 "nbformat": 4,
 "nbformat_minor": 2
}
