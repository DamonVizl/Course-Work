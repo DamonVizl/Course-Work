{
 "cells": [
  {
   "attachments": {},
   "cell_type": "markdown",
   "metadata": {},
   "source": [
    "**Set Notation**\n",
    "\n",
    "A set is a collection of elements (like an array in code)  $A$ = { 1, 2, 3, 4}  \n",
    "**Membership** An item has membership to a set if it is in that set. $2 \\in A$ , 6 ~~$\\in$~~  \n",
    "**Subset** A set is a subset of another if all it's elements are contained within the parent set. $A \\subset B$ where B = {1,2}  \n",
    "**Cardinality** this is the size of the set, the number of elements within the set $|A|$ = 4, $|B|$ = 2  \n",
    "**Empty Set** A set with nothing in it. $\\phi$ = {}  \n",
    "**Universal Set** All the possible elements under consideration. for example the Universal set of letters is the alphabet  \n",
    "**Set Compliment** This is all the elements within the universal set that are not within the set in question. Let's take a set L = {a,b,c,d,e,f,g,h,i,j,k,l,m,n,o,p,q,r,s,t,u,v,w,x}. $L^{c}$ = {y,z}.  \n",
    "The notation $L^{C}$ = {x|x $\\in U and \\ x \\ni L$} reads. x is an element that is in the unversial set, but not within the set L.\n",
    "\n"
   ]
  },
  {
   "attachments": {},
   "cell_type": "markdown",
   "metadata": {},
   "source": [
    "**Set Operations**\n",
    "\n",
    "**Union** This is effectively a logical OR. $A \\cup B$ = ${x|x \\in A \\ OR \\ x \\in B}$ \n",
    "**Intersection** This is logcal AND. $A \\cap B \\ = {x|x \\in A \\ AND \\ x \\in B}$  \n",
    "**Set Difference** This is where the element is in A but not also in B. In our sets up above  A\\B = $A \\cap B{^c}$ = A - B = {3, 4}. The other notation is A\\B = {$x|x \\in \\ AND \\ x \\ni B$}  \n",
    "**Symmetric Differnece** This is all the elements that are in A and B but not in the Intersection. This uses the notation $A \\Delta B$. In our sets that would be 3 and 4 (because B is a subset of A).\n",
    "Introducing a new set C = {3,4,5,6,7} then $A \\Delta C$ = {1,2,5,6,7}  \n",
    "**Inclusion-Exclusion Theory** $ |A \\cup B| = |A| + |B| - |A \\cap B|$. In our sets we would...  \n",
    "Find $A \\cup C$ = {1,2,3,4,5,6,7}  \n",
    "Find $A \\cap C$ = {3,4}  \n",
    "|A| = 4, |C| = 5, |$A \\cup C$| = 7, and |$A \\cap C$| = 2  \n",
    "therefore 7 = 5 + 4 - 2.  \n",
    "\n"
   ]
  },
  {
   "cell_type": "markdown",
   "metadata": {},
   "source": []
  }
 ],
 "metadata": {
  "language_info": {
   "name": "python"
  },
  "orig_nbformat": 4
 },
 "nbformat": 4,
 "nbformat_minor": 2
}
