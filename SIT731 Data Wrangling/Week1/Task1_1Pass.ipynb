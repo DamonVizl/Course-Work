{
 "cells": [
  {
   "attachments": {},
   "cell_type": "markdown",
   "metadata": {},
   "source": [
    "# Task 1.1 Pass Task - Damon Vizl - S223545885 - damon.vizl@gmail.com - SIT731\n",
    "\n",
    "This report identifies a list of 5 individuals including their height and weight data. The purpose of the report is to calculate their BMI in accordance with WHO standards and plot that data.  \n",
    "The report will also discuss some shortcomings of the BMI calculations and introduce the BMI Prime calculation."
   ]
  },
  {
   "attachments": {},
   "cell_type": "markdown",
   "metadata": {},
   "source": [
    "## Question 1 and 2\n",
    "The Body Mask Index is defined in wikipedia as the body mass in kg divided by the square of the body height in cm. $$BMI = kg/m^2. $$  \n",
    "The first step will be to change the height to metres by dividing each element of the heights list by 100 (multiplying by 0.01 is faster, not that we need to worry about performance with 5 data points but best to use best practice. Also avoids divide by 0 risks)"
   ]
  },
  {
   "cell_type": "code",
   "execution_count": 21,
   "metadata": {},
   "outputs": [],
   "source": [
    "import math\n",
    "\n",
    "names = [\"Ryan\", \"Glen\", \"Dave\", \"Liana\", \"Damon\"]\n",
    "heights = [183,185,178,165,180] # in cm\n",
    "heightsInM = [round(num * 0.01,2) for num in heights] # multiplies by 0.01 and rounds to 2 decimal places \n",
    "weights = [110,75,70,56,81] # in kg\n",
    "\n",
    "bmi = []\n",
    "for i in range(0,len(heights)):\n",
    "    bmi.append(round(weights[i]/(heightsInM[i]**2),2))\n",
    "    i+=1"
   ]
  },
  {
   "attachments": {},
   "cell_type": "markdown",
   "metadata": {},
   "source": [
    "The for loop above iterates through the lists and calculates the BMI in the above formula."
   ]
  },
  {
   "attachments": {},
   "cell_type": "markdown",
   "metadata": {},
   "source": [
    "## Question 3\n",
    "Below we can see the code that generates a bar plot showing the BMI corresponding to the person. I have extended the task and included a colourmap to show where a person has a BMI that is higher corresponds to a more 'red' colour. \n"
   ]
  },
  {
   "cell_type": "code",
   "execution_count": 23,
   "metadata": {},
   "outputs": [
    {
     "data": {
      "image/png": "[encoded data removed]",
      "text/plain": [
       "<Figure size 640x480 with 1 Axes>"
      ]
     },
     "metadata": {},
     "output_type": "display_data"
    }
   ],
   "source": [
    "import matplotlib.pyplot as plt\n",
    "%matplotlib inline\n",
    "\n",
    "plt.bar(names,bmi)\n",
    "plt.title(\"My Friends' BMI\")\n",
    "plt.ylabel(\"BMI\")\n",
    "plt.show()"
   ]
  },
  {
   "attachments": {},
   "cell_type": "markdown",
   "metadata": {},
   "source": [
    "The barplot above shows us a colour mapped visual representation of a list of 5 individuals' BMI. We can see that if an individual has a higher BMI that corresponds to a darker colour. "
   ]
  },
  {
   "attachments": {},
   "cell_type": "markdown",
   "metadata": {},
   "source": [
    "## Question 4\n",
    "As defined by the WHO the BMI ranges are:  \n",
    "<ol>\n",
    "    <li>Under Weight : < 18.5</li>\n",
    "    <li>Normal Weight : 18.5-24.9 </li>\n",
    "    <li>Over Weight : 25-29.9 </li>\n",
    "    <li>Obese : > 30 </li>\n",
    "</ol>  \n",
    "Below is a segment of code that takes a persons BMI and returns their BMI Class. "
   ]
  },
  {
   "cell_type": "code",
   "execution_count": 26,
   "metadata": {},
   "outputs": [
    {
     "name": "stdout",
     "output_type": "stream",
     "text": [
      "Ryan has a BMI of 32.85 which is obese.\n",
      "Glen has a BMI of 21.91 which is a normal weight.\n",
      "Dave has a BMI of 22.09 which is a normal weight.\n",
      "Liana has a BMI of 20.57 which is a normal weight.\n",
      "Damon has a BMI of 25.0 which is over weight.\n"
     ]
    }
   ],
   "source": [
    "def BMIWeightClass(bmi):\n",
    "    weightClass = \"\"\n",
    "    if(bmi<18.5): weightClass = \"is under weight.\"\n",
    "    elif(bmi<25): weightClass = \"is a normal weight.\"\n",
    "    elif(bmi<30): weightClass = \"is over weight.\"\n",
    "    else: weightClass = \"is obese.\"\n",
    "    return weightClass\n",
    "\n",
    "for i in range(0,len(names)):\n",
    "    print(f\"{names[i]} has a BMI of {bmi[i]} which {BMIWeightClass(bmi[i])}\")\n",
    "    i+=1"
   ]
  },
  {
   "attachments": {},
   "cell_type": "markdown",
   "metadata": {},
   "source": [
    "The above function takes a BMI and compares that to a series of conditional checks, it then outputs a string stating whether the person is underweight,normal,over or obese.  \n",
    "The for loop just loops through the names and passes the corresponding BMI to the BMIWeightClass function and prints the name and classification. "
   ]
  },
  {
   "attachments": {},
   "cell_type": "markdown",
   "metadata": {},
   "source": [
    "## Question 5\n",
    "BMI is a widely addopted metric to determine whether a person's weight is in a healthy range. There are some short comings of using BMI to determine health including\n",
    "<ol>\n",
    "    <li>The BMI just uses the mass of the person. If that person has a high percentage of muscle when compared to their body fat they can incorrectly be classified as overweight or even obese. </li>\n",
    "    <li>As shown in the wikipedia article certain populations (listed include Japanese, Hong Kong, etc) should not be measured against Caucasian BMI standards. Genetic, biological and cultural factors can change a populations healthy weight range. </li>\n",
    "    <li>A person within a healthy weight range according to their BMI may have underlying health issues that become overlooked as they percieve that they are 'healthy'. As biological and genetic factors can effect a persons weight they may not have a healthy diet but remain within a healthy weight range.</li>\n",
    "    <li>Individuals a number of standard deviations outside the average height can have incorrect BMI readings.</li>\n",
    "</ol>\n",
    "\n",
    "Further to these points listed, BMI can have adverse effects on a persons mental health. If they are incorrectly categorised as overweight or obese and do not understand the factors above they may develop self esteem issues surrounding their weight. This can lead to future problems with diet, exercise and weight loss in the future.  \n",
    "\n",
    "BMI should not be taken as a sole measure of health. High processed foods and high sugar diets are a leading factor to weight gain in western society. For a lot of people a healthy diet and moderate exercise of around 150 minutes a week can lead to a healthy lifestyle. "
   ]
  },
  {
   "attachments": {},
   "cell_type": "markdown",
   "metadata": {},
   "source": [
    "# Post Grad Extension Tasks\n",
    "# Question 1\n",
    "\n",
    "The BMI Prime is a ratio that takes a persons BMI and compares that to the upper limit of an optimal BMI ($kg/m^2 $).  \n",
    "BMI Prime is defined as $$ BMI_p = BMI/25$$  \n",
    "This will return a ratio, above or below 1. $(1-BMI_p)*100$ will be the percentage above or below that upper limit a person is.  \n",
    "Below is a function that returns an individuals $BMI_p$"
   ]
  },
  {
   "cell_type": "code",
   "execution_count": 27,
   "metadata": {},
   "outputs": [],
   "source": [
    "def BMIPrime(bmiNum):\n",
    "    upperBMILim = 25\n",
    "    return bmiNum/upperBMILim\n",
    "\n",
    "BMIp = []\n",
    "for i in range(0,len(names)):\n",
    "    BMIp.append(BMIPrime(bmi[i]))  "
   ]
  },
  {
   "attachments": {},
   "cell_type": "markdown",
   "metadata": {},
   "source": [
    "The above function takes a bmiNum (the bmi of the person) divides that by the upper BMI Limit of 25 and returns that value. The for loop loops through the elements of the bmi list and calls the BMIPrime function, and rounds the returned value to 2 decimal places for readability. It also fills a new list BMIp with the created values.\n",
    "The results of this show that a person within a healthy BMI range should have a $BMI_p$ value less than 1, and a person within a overweight/obese BMI range should have a $BMI_p$ greater than or equal to 1.\n",
    "\n",
    "# Question 2\n",
    "\n",
    "Below we can see a barplot of each persons' BMI prime value. "
   ]
  },
  {
   "cell_type": "code",
   "execution_count": null,
   "metadata": {},
   "outputs": [
    {
     "data": {
      "text/plain": [
       "Text(0, 0.5, 'BMI prime')"
      ]
     },
     "execution_count": 17,
     "metadata": {},
     "output_type": "execute_result"
    },
    {
     "data": {
      "image/png": "[encoded data removed]",
      "text/plain": [
       "<Figure size 640x480 with 1 Axes>"
      ]
     },
     "metadata": {},
     "output_type": "display_data"
    }
   ],
   "source": [
    "plt.bar(names, BMIp)\n",
    "plt.title(\"BMI prime of My Friends\")\n",
    "plt.ylabel(\"BMI prime\")"
   ]
  },
  {
   "attachments": {},
   "cell_type": "markdown",
   "metadata": {},
   "source": [
    "# Question 3\n",
    "\n",
    "The below code outputs a person's name, their BMI, their BMI category and their BMI prime. "
   ]
  },
  {
   "cell_type": "code",
   "execution_count": 29,
   "metadata": {},
   "outputs": [
    {
     "name": "stdout",
     "output_type": "stream",
     "text": [
      "Ryan has a BMI of 32.85 which is is obese. They have a BMI prime index of 1.31\n",
      "Glen has a BMI of 21.91 which is is a normal weight. They have a BMI prime index of 0.88\n",
      "Dave has a BMI of 22.09 which is is a normal weight. They have a BMI prime index of 0.88\n",
      "Liana has a BMI of 20.57 which is is a normal weight. They have a BMI prime index of 0.82\n",
      "Damon has a BMI of 25.0 which is is over weight. They have a BMI prime index of 1.0\n"
     ]
    }
   ],
   "source": [
    "for i in range(0,len(names)):\n",
    "    print(f\"{names[i]} has a BMI of {bmi[i]} which is {BMIWeightClass(bmi[i])} They have a BMI prime index of {round(BMIp[i], 2)}\")"
   ]
  },
  {
   "attachments": {},
   "cell_type": "markdown",
   "metadata": {},
   "source": [
    "# Question 4\n",
    "\n",
    "The advantages of BMI prime include:\n",
    "<ol>\n",
    "    <li>BMI prime simplifies the metric. People can see quickly from the number whether they are above or below the optimal weight of 25 kg.</li>\n",
    "    <li>People can quickly see by the magnitude of the number above or below 1 how far from the optimal range they are, they do not have to refer to or remember the table of figures to determine if they are within a healthy BMI range.</li>\n",
    "</ol>  \n",
    "The disadvantages of BMI prime include:\n",
    "<ol>\n",
    "    <li>All the disadvantages of BMI persist with BMI prime. A densly muscled person, a very tall or short person or a person of a different population could be falsely categorised as over or underweight. </li>\n",
    "    <li>The simplification of the metric, while easy to parse, reduces any nuance in the BMI even further.</li>\n",
    "    <li>Due to the fixed value of 25 kg/m^2 if that figure changes previously recorded BMI primes cannot be accurately compared to new values (this could have application with a patients medical history)</li>\n",
    "</ol>  "
   ]
  }
 ],
 "metadata": {
  "kernelspec": {
   "display_name": "Python 3",
   "language": "python",
   "name": "python3"
  },
  "language_info": {
   "codemirror_mode": {
    "name": "ipython",
    "version": 3
   },
   "file_extension": ".py",
   "mimetype": "text/x-python",
   "name": "python",
   "nbconvert_exporter": "python",
   "pygments_lexer": "ipython3",
   "version": "3.11.2"
  },
  "orig_nbformat": 4
 },
 "nbformat": 4,
 "nbformat_minor": 2
}
